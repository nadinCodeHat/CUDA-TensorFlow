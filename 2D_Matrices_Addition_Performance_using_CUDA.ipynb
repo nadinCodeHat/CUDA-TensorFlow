{
  "nbformat": 4,
  "nbformat_minor": 0,
  "metadata": {
    "colab": {
      "name": "HPC Assignment.ipynb",
      "provenance": []
    },
    "kernelspec": {
      "name": "python3",
      "display_name": "Python 3"
    },
    "language_info": {
      "name": "python"
    },
    "accelerator": "GPU"
  },
  "cells": [
    {
      "cell_type": "code",
      "execution_count": null,
      "metadata": {
        "id": "OclqClDUYTRh"
      },
      "outputs": [],
      "source": [
        "!apt-get --purge remove cuda nvidia* libnvidia-*\n",
        "!dpkg -l | grep cuda- | awk '{print $2}' | xargs -n1 dpkg --purge\n",
        "!apt-get remove cuda-*\n",
        "!apt autoremove\n",
        "!apt-get update"
      ]
    },
    {
      "cell_type": "code",
      "source": [
        "!wget https://developer.nvidia.com/compute/cuda/9.2/Prod/local_installers/cuda-repo-ubuntu1604-9-2-local_9.2.88-1_amd64 -O cuda-repo-ubuntu1604-9-2-local_9.2.88-1_amd64.deb\n",
        "!dpkg -i cuda-repo-ubuntu1604-9-2-local_9.2.88-1_amd64.deb\n",
        "!apt-key add /var/cuda-repo-9-2-local/7fa2af80.pub\n",
        "!apt-get update\n",
        "!apt-get install cuda-9.2"
      ],
      "metadata": {
        "id": "vPPfrRNxdgIl"
      },
      "execution_count": null,
      "outputs": []
    },
    {
      "cell_type": "code",
      "source": [
        "!nvcc --version"
      ],
      "metadata": {
        "id": "xWAJPpD6flna"
      },
      "execution_count": null,
      "outputs": []
    },
    {
      "cell_type": "code",
      "source": [
        "!pip install git+git://github.com/andreinechaev/nvcc4jupyter.git"
      ],
      "metadata": {
        "id": "ykV6i7-FgUAa"
      },
      "execution_count": null,
      "outputs": []
    },
    {
      "cell_type": "code",
      "source": [
        "%load_ext nvcc_plugin"
      ],
      "metadata": {
        "id": "e_cv6tV8gYp9"
      },
      "execution_count": null,
      "outputs": []
    },
    {
      "cell_type": "code",
      "source": [
        "%%cu\n",
        "#include <stdio.h>\n",
        "#include <stdlib.h>\n",
        "#include <time.h>\n",
        "#include <sys/time.h>\n",
        "#include <unistd.h>\n",
        "#include <cuda.h>\n",
        "#include <cuda_runtime.h>\n",
        "\n",
        "#define COLUMNS 500\n",
        "#define ROWS 500\n",
        "\n",
        "long a[ROWS*COLUMNS], b[ROWS*COLUMNS], c[ROWS*COLUMNS],d[ROWS*COLUMNS];\n",
        "\n",
        "__global__ void add(long *a, long *b, long *c,long *d)\n",
        "{\n",
        " int x = blockIdx.x;\n",
        " int y = blockIdx.y;\n",
        " int i = (COLUMNS*y) + x;\n",
        " c[i] = a[i] + b[i];\n",
        " a[i]=d[i];\n",
        "}\n",
        "int main()\n",
        "{\n",
        " long *dev_a, *dev_b, *dev_c,*dev_d;\n",
        " struct timeval startc, end;\n",
        " float ms;\n",
        " long seconds, useconds;\n",
        " double mtime;\n",
        " cudaEvent_t start,stop;\n",
        "\n",
        "\n",
        " for(int i=0; i<ROWS*COLUMNS; i++)\n",
        "     d[i]=rand()%4;\n",
        "\n",
        " for(int i=0; i<ROWS; i++){\n",
        "     for(int j=0; j<COLUMNS; j++){\n",
        "         a[i*COLUMNS+j]=j;\n",
        "         b[i*COLUMNS+j]=i;\n",
        "     }\n",
        " }\n",
        "\n",
        " cudaMalloc((void **) &dev_a, ROWS*COLUMNS*sizeof(int));\n",
        " cudaMalloc((void **) &dev_b, ROWS*COLUMNS*sizeof(int));\n",
        " cudaMalloc((void **) &dev_c, ROWS*COLUMNS*sizeof(int));\n",
        " cudaMalloc((void **) &dev_d, ROWS*COLUMNS*sizeof(int));\n",
        "\n",
        " gettimeofday(&startc, NULL);\n",
        " for (long i = 0; i < ROWS*COLUMNS; i++){ // Fill Arrays\n",
        "     c[i]=a[i]+b[i];\n",
        "     a[i]=d[i];\n",
        " }\n",
        "  gettimeofday(&end, NULL);\n",
        "\n",
        " seconds  = end.tv_sec  - startc.tv_sec;\n",
        " useconds = end.tv_usec - startc.tv_usec;\n",
        " mtime = useconds;\n",
        " mtime/=1000;\n",
        " mtime+=seconds*1000;\n",
        "\n",
        "for (long y = ROWS-1; y < ROWS; y++) // Output Arrays\n",
        " {\n",
        " for (long x = COLUMNS-1; x < COLUMNS; x++)\n",
        " {\n",
        "    // printf(\"\\n[%ld][%ld]=%ld \",y,x,c[y][x]);\n",
        "   //   printf(\"[%d][%d]=%d \",y,x,d[y][x]);\n",
        " }\n",
        " printf(\"\\n\");\n",
        " }\n",
        "\n",
        "cudaMemcpy(dev_a, a, ROWS*COLUMNS*sizeof(int),\n",
        "cudaMemcpyHostToDevice);\n",
        "cudaMemcpy(dev_b, b, ROWS*COLUMNS*sizeof(int),\n",
        "cudaMemcpyHostToDevice);\n",
        "cudaMemcpy(dev_d, d, ROWS*COLUMNS*sizeof(int),\n",
        "cudaMemcpyHostToDevice);\n",
        "\n",
        "cudaEventCreate(&start);\n",
        "cudaEventCreate(&stop);\n",
        "cudaEventRecord(start, 0);\n",
        "\n",
        "add<<<dim3(1024,1024),dim3(128,128)>>>(dev_a, dev_b, dev_c,dev_d);\n",
        "\n",
        "cudaEventRecord(stop, 0);\n",
        "cudaEventSynchronize(stop);\n",
        "cudaEventElapsedTime(&ms, start, stop);\n",
        "\n",
        "cudaMemcpy(c, dev_c, ROWS*COLUMNS*sizeof(int),cudaMemcpyDeviceToHost);\n",
        "cudaEventDestroy(start);\n",
        "cudaEventDestroy(stop);\n",
        "\n",
        "//cpu_time_used = ((double) (end - start)) / CLOCKS_PER_SEC;\n",
        "double memXFers=5*4*COLUMNS*ROWS;\n",
        "memXFers/=1024*1024*1024;\n",
        "\n",
        "printf(\"GPU: %f ms bandwidth %g GB/s\",ms, memXFers/(ms/1000.0));\n",
        "printf(\"\\n CPU : %g ms bandwidth %g GB/s\",mtime, memXFers/(mtime/1000.0));\n",
        " for (long y = ROWS-1; y < ROWS; y++) // Output Arrays\n",
        " {\n",
        "     for (long x = COLUMNS-1; x < COLUMNS; x++)\n",
        "     {\n",
        "      //   printf(\"\\n[%ld][%ld]=%ld \",y,x,c[y][x]);\n",
        "      //   printf(\"[%d][%d]=%d \",y,x,d[y][x]);\n",
        "     }\n",
        "     printf(\"\\n\");\n",
        " }\n",
        "\n",
        " return 0;\n",
        "}"
      ],
      "metadata": {
        "colab": {
          "base_uri": "https://localhost:8080/"
        },
        "id": "IWc4Bs2xiKE7",
        "outputId": "4203638a-6616-4c27-9c38-5f5b53eb7d61"
      },
      "execution_count": 17,
      "outputs": [
        {
          "output_type": "stream",
          "name": "stdout",
          "text": [
            "\n",
            "GPUassert: invalid configuration argument\n",
            "GPU: 0.004096 ms bandwidth 1136.87 GB/s\n",
            " CPU : 1.759 ms bandwidth 2.64731 GB/s\n",
            "\n"
          ]
        }
      ]
    }
  ]
}